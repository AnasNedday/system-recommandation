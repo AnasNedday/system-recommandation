{
 "cells": [
  {
   "cell_type": "markdown",
   "metadata": {
    "colab_type": "text",
    "id": "view-in-github"
   },
   "source": [
    "<a href=\"https://colab.research.google.com/github/AnasNedday/RecommandationBasedUsers/blob/main/RecommandationSystemBasedUsersRatings.ipynb\" target=\"_parent\"><img src=\"https://colab.research.google.com/assets/colab-badge.svg\" alt=\"Open In Colab\"/></a>"
   ]
  },
  {
   "cell_type": "code",
   "execution_count": 1,
   "metadata": {
    "id": "FmD2KVjb262_"
   },
   "outputs": [],
   "source": [
    "import pandas as pd\n",
    "import numpy as np\n",
    "import gc"
   ]
  },
  {
   "cell_type": "markdown",
   "metadata": {
    "id": "WhmW4yBK3u3n"
   },
   "source": [
    "### Chargement des données\n"
   ]
  },
  {
   "cell_type": "code",
   "execution_count": 2,
   "metadata": {
    "id": "moVHrVJj30dz"
   },
   "outputs": [],
   "source": [
    "df_movies = pd.read_csv('../movies.csv')\n",
    "df_ratings = pd.read_csv('../ratings.csv')"
   ]
  },
  {
   "cell_type": "code",
   "execution_count": 3,
   "metadata": {
    "colab": {
     "base_uri": "https://localhost:8080/",
     "height": 224
    },
    "id": "h7wdezSs3935",
    "outputId": "3a97b88a-00eb-40da-ac5e-085547b024fb"
   },
   "outputs": [
    {
     "data": {
      "text/html": [
       "<div>\n",
       "<style scoped>\n",
       "    .dataframe tbody tr th:only-of-type {\n",
       "        vertical-align: middle;\n",
       "    }\n",
       "\n",
       "    .dataframe tbody tr th {\n",
       "        vertical-align: top;\n",
       "    }\n",
       "\n",
       "    .dataframe thead th {\n",
       "        text-align: right;\n",
       "    }\n",
       "</style>\n",
       "<table border=\"1\" class=\"dataframe\">\n",
       "  <thead>\n",
       "    <tr style=\"text-align: right;\">\n",
       "      <th></th>\n",
       "      <th>movieId</th>\n",
       "      <th>title</th>\n",
       "      <th>genres</th>\n",
       "    </tr>\n",
       "  </thead>\n",
       "  <tbody>\n",
       "    <tr>\n",
       "      <th>0</th>\n",
       "      <td>1</td>\n",
       "      <td>Toy Story (1995)</td>\n",
       "      <td>Adventure|Animation|Children|Comedy|Fantasy</td>\n",
       "    </tr>\n",
       "    <tr>\n",
       "      <th>1</th>\n",
       "      <td>2</td>\n",
       "      <td>Jumanji (1995)</td>\n",
       "      <td>Adventure|Children|Fantasy</td>\n",
       "    </tr>\n",
       "    <tr>\n",
       "      <th>2</th>\n",
       "      <td>3</td>\n",
       "      <td>Grumpier Old Men (1995)</td>\n",
       "      <td>Comedy|Romance</td>\n",
       "    </tr>\n",
       "    <tr>\n",
       "      <th>3</th>\n",
       "      <td>4</td>\n",
       "      <td>Waiting to Exhale (1995)</td>\n",
       "      <td>Comedy|Drama|Romance</td>\n",
       "    </tr>\n",
       "    <tr>\n",
       "      <th>4</th>\n",
       "      <td>5</td>\n",
       "      <td>Father of the Bride Part II (1995)</td>\n",
       "      <td>Comedy</td>\n",
       "    </tr>\n",
       "  </tbody>\n",
       "</table>\n",
       "</div>"
      ],
      "text/plain": [
       "   movieId                               title  \\\n",
       "0        1                    Toy Story (1995)   \n",
       "1        2                      Jumanji (1995)   \n",
       "2        3             Grumpier Old Men (1995)   \n",
       "3        4            Waiting to Exhale (1995)   \n",
       "4        5  Father of the Bride Part II (1995)   \n",
       "\n",
       "                                        genres  \n",
       "0  Adventure|Animation|Children|Comedy|Fantasy  \n",
       "1                   Adventure|Children|Fantasy  \n",
       "2                               Comedy|Romance  \n",
       "3                         Comedy|Drama|Romance  \n",
       "4                                       Comedy  "
      ]
     },
     "execution_count": 3,
     "metadata": {},
     "output_type": "execute_result"
    }
   ],
   "source": [
    "df_movies.head()"
   ]
  },
  {
   "cell_type": "code",
   "execution_count": 4,
   "metadata": {
    "colab": {
     "base_uri": "https://localhost:8080/",
     "height": 206
    },
    "id": "aqWxTxWL4DDD",
    "outputId": "81277b3c-c46b-4617-80b0-7e036f995580"
   },
   "outputs": [
    {
     "data": {
      "text/html": [
       "<div>\n",
       "<style scoped>\n",
       "    .dataframe tbody tr th:only-of-type {\n",
       "        vertical-align: middle;\n",
       "    }\n",
       "\n",
       "    .dataframe tbody tr th {\n",
       "        vertical-align: top;\n",
       "    }\n",
       "\n",
       "    .dataframe thead th {\n",
       "        text-align: right;\n",
       "    }\n",
       "</style>\n",
       "<table border=\"1\" class=\"dataframe\">\n",
       "  <thead>\n",
       "    <tr style=\"text-align: right;\">\n",
       "      <th></th>\n",
       "      <th>userId</th>\n",
       "      <th>movieId</th>\n",
       "      <th>rating</th>\n",
       "      <th>timestamp</th>\n",
       "    </tr>\n",
       "  </thead>\n",
       "  <tbody>\n",
       "    <tr>\n",
       "      <th>0</th>\n",
       "      <td>1</td>\n",
       "      <td>1</td>\n",
       "      <td>4.0</td>\n",
       "      <td>964982703</td>\n",
       "    </tr>\n",
       "    <tr>\n",
       "      <th>1</th>\n",
       "      <td>1</td>\n",
       "      <td>3</td>\n",
       "      <td>4.0</td>\n",
       "      <td>964981247</td>\n",
       "    </tr>\n",
       "    <tr>\n",
       "      <th>2</th>\n",
       "      <td>1</td>\n",
       "      <td>6</td>\n",
       "      <td>4.0</td>\n",
       "      <td>964982224</td>\n",
       "    </tr>\n",
       "    <tr>\n",
       "      <th>3</th>\n",
       "      <td>1</td>\n",
       "      <td>47</td>\n",
       "      <td>5.0</td>\n",
       "      <td>964983815</td>\n",
       "    </tr>\n",
       "    <tr>\n",
       "      <th>4</th>\n",
       "      <td>1</td>\n",
       "      <td>50</td>\n",
       "      <td>5.0</td>\n",
       "      <td>964982931</td>\n",
       "    </tr>\n",
       "  </tbody>\n",
       "</table>\n",
       "</div>"
      ],
      "text/plain": [
       "   userId  movieId  rating  timestamp\n",
       "0       1        1     4.0  964982703\n",
       "1       1        3     4.0  964981247\n",
       "2       1        6     4.0  964982224\n",
       "3       1       47     5.0  964983815\n",
       "4       1       50     5.0  964982931"
      ]
     },
     "execution_count": 4,
     "metadata": {},
     "output_type": "execute_result"
    }
   ],
   "source": [
    "df_ratings.head()"
   ]
  },
  {
   "cell_type": "code",
   "execution_count": 17,
   "metadata": {
    "id": "-fJ1wvMH4EjD"
   },
   "outputs": [],
   "source": [
    "from sklearn.metrics.pairwise import cosine_similarity\n",
    "from sklearn.feature_extraction.text import CountVectorizer\n",
    "\n",
    "class ContentBasedRecommender:\n",
    "    def __init__(self, path_movies, path_ratings):\n",
    "        \"\"\"\n",
    "        Initialisation du modèle de recommandation basé sur le contenu.\n",
    "\n",
    "        :param path_movies: chemin vers le fichier contenant les informations des films\n",
    "        :param path_ratings: chemin vers le fichier contenant les évaluations des utilisateurs\n",
    "        \"\"\"\n",
    "        self.path_movies = path_movies\n",
    "        self.path_ratings = path_ratings\n",
    "        self.movies_df = None\n",
    "        self.user_ratings_df = None\n",
    "\n",
    "    def _prep_data(self):\n",
    "        \"\"\"\n",
    "        Préparer les données pour le système de recommandation.\n",
    "        \"\"\"\n",
    "        # Charger les données des films et des évaluations\n",
    "        self.movies_df = pd.read_csv(self.path_movies, usecols=['movieId', 'title', 'genres'])\n",
    "        self.user_ratings_df = pd.read_csv(self.path_ratings, usecols=['userId', 'movieId', 'rating'])\n",
    "\n",
    "        # Combiner les genres en une seule chaîne par film\n",
    "        self.movies_df['genres'] = self.movies_df['genres'].fillna('')\n",
    "        return self.movies_df\n",
    "\n",
    "    def _compute_similarity_matrix(self):\n",
    "        \"\"\"\n",
    "        Calculer la matrice de similarité cosinus basée sur les genres des films.\n",
    "        \"\"\"\n",
    "        count_vectorizer = CountVectorizer(tokenizer=lambda x: x.split('|'))\n",
    "        genre_matrix = count_vectorizer.fit_transform(self.movies_df['genres'])\n",
    "\n",
    "        # Calculer la similarité cosinus\n",
    "        similarity_matrix = cosine_similarity(genre_matrix, genre_matrix)\n",
    "        return similarity_matrix\n",
    "\n",
    "    def recommend_movies(self, user_id, n_recommendations=10):\n",
    "        \"\"\"\n",
    "        Recommander des films non vus par l'utilisateur, basés sur le contenu.\n",
    "\n",
    "        :param user_id: ID de l'utilisateur pour lequel les recommandations sont générées\n",
    "        :param n_recommendations: nombre de films à recommander\n",
    "        :return: liste des titres de films recommandés\n",
    "        \"\"\"\n",
    "        # Préparer les données et calculer la matrice de similarité\n",
    "        self._prep_data()\n",
    "        similarity_matrix = self._compute_similarity_matrix()\n",
    "\n",
    "        # Obtenir les films notés par l'utilisateur\n",
    "        user_ratings = self.user_ratings_df[self.user_ratings_df['userId'] == user_id]\n",
    "        user_watched_movies = user_ratings['movieId'].tolist()\n",
    "\n",
    "        # Générer des scores pour tous les films basés sur les films déjà notés\n",
    "        movie_scores = np.zeros(len(self.movies_df))\n",
    "        for movie_id in user_watched_movies:\n",
    "            if movie_id in self.movies_df['movieId'].values:\n",
    "                movie_index = self.movies_df[self.movies_df['movieId'] == movie_id].index[0]\n",
    "                movie_scores += similarity_matrix[movie_index]\n",
    "\n",
    "        # Exclure les films déjà vus\n",
    "        self.movies_df['score'] = movie_scores\n",
    "        recommendations = self.movies_df[~self.movies_df['movieId'].isin(user_watched_movies)] \\\n",
    "            .sort_values(by='score', ascending=False) \\\n",
    "            .head(n_recommendations)\n",
    "\n",
    "        return recommendations['title'].tolist()\n",
    "\n"
   ]
  },
  {
   "cell_type": "code",
   "execution_count": 19,
   "metadata": {},
   "outputs": [],
   "source": [
    "from sklearn.feature_extraction.text import CountVectorizer\n",
    "\n",
    "class ContentBasedRecommender:\n",
    "    def __init__(self, path_movies, path_ratings):\n",
    "        \"\"\"\n",
    "        Initialisation du modèle de recommandation basé sur le contenu.\n",
    "\n",
    "        :param path_movies: chemin vers le fichier contenant les informations des films\n",
    "        :param path_ratings: chemin vers le fichier contenant les évaluations des utilisateurs\n",
    "        \"\"\"\n",
    "        self.path_movies = path_movies\n",
    "        self.path_ratings = path_ratings\n",
    "        self.movies_df = None\n",
    "        self.user_ratings_df = None\n",
    "\n",
    "    def _prep_data(self):\n",
    "        \"\"\"\n",
    "        Préparer les données pour le système de recommandation.\n",
    "        \"\"\"\n",
    "        # Charger les données des films et des évaluations\n",
    "        self.movies_df = pd.read_csv(self.path_movies, usecols=['movieId', 'title', 'genres'])\n",
    "        self.user_ratings_df = pd.read_csv(self.path_ratings, usecols=['userId', 'movieId', 'rating'])\n",
    "\n",
    "        # Gérer les valeurs manquantes dans les genres\n",
    "        self.movies_df['genres'] = self.movies_df['genres'].fillna('')\n",
    "        return self.movies_df\n",
    "\n",
    "    def _compute_similarity_matrix(self):\n",
    "        \"\"\"\n",
    "        Calculer manuellement la matrice de similarité cosinus basée sur les genres des films.\n",
    "        \"\"\"\n",
    "        # Vectoriser les genres avec CountVectorizer\n",
    "        count_vectorizer = CountVectorizer(tokenizer=lambda x: x.split('|'))\n",
    "        genre_matrix = count_vectorizer.fit_transform(self.movies_df['genres']).toarray()\n",
    "\n",
    "        # Initialiser la matrice de similarité\n",
    "        num_movies = genre_matrix.shape[0]\n",
    "        similarity_matrix = np.zeros((num_movies, num_movies))\n",
    "\n",
    "        # Calculer manuellement la similarité cosinus\n",
    "        for i in range(num_movies):\n",
    "            for j in range(num_movies):\n",
    "                # Produit scalaire entre les vecteurs\n",
    "                dot_product = np.dot(genre_matrix[i], genre_matrix[j])\n",
    "                # Normes des vecteurs\n",
    "                norm_i = np.linalg.norm(genre_matrix[i])\n",
    "                norm_j = np.linalg.norm(genre_matrix[j])\n",
    "                # Calcul de la similarité cosinus\n",
    "                similarity_matrix[i][j] = dot_product / (norm_i * norm_j) if norm_i * norm_j != 0 else 0\n",
    "\n",
    "        return similarity_matrix\n",
    "\n",
    "    def recommend_movies(self, user_id, n_recommendations=10):\n",
    "        \"\"\"\n",
    "        Recommander des films non vus par l'utilisateur, basés sur le contenu.\n",
    "\n",
    "        :param user_id: ID de l'utilisateur pour lequel les recommandations sont générées\n",
    "        :param n_recommendations: nombre de films à recommander\n",
    "        :return: liste des titres de films recommandés\n",
    "        \"\"\"\n",
    "        # Préparer les données et calculer la matrice de similarité\n",
    "        self._prep_data()\n",
    "        similarity_matrix = self._compute_similarity_matrix()\n",
    "\n",
    "        # Obtenir les films notés par l'utilisateur\n",
    "        user_ratings = self.user_ratings_df[self.user_ratings_df['userId'] == user_id]\n",
    "        user_watched_movies = user_ratings['movieId'].tolist()\n",
    "\n",
    "        # Initialiser un tableau pour stocker les scores de similarité\n",
    "        movie_scores = np.zeros(len(self.movies_df))\n",
    "\n",
    "        # Calculer les scores pour chaque film basé sur la similarité avec les films notés par l'utilisateur\n",
    "        for movie_id in user_watched_movies:\n",
    "            if movie_id in self.movies_df['movieId'].values:\n",
    "                movie_index = self.movies_df[self.movies_df['movieId'] == movie_id].index[0]\n",
    "                movie_scores += similarity_matrix[movie_index]\n",
    "\n",
    "        # Exclure les films déjà vus par l'utilisateur\n",
    "        self.movies_df['score'] = movie_scores\n",
    "        recommendations = self.movies_df[~self.movies_df['movieId'].isin(user_watched_movies)] \\\n",
    "            .sort_values(by='score', ascending=False) \\\n",
    "            .head(n_recommendations)\n",
    "\n",
    "        return recommendations['title'].tolist()\n"
   ]
  },
  {
   "cell_type": "code",
   "execution_count": 20,
   "metadata": {
    "colab": {
     "base_uri": "https://localhost:8080/"
    },
    "id": "qjpmZW3crslh",
    "outputId": "6c5259b9-14b5-4318-85a6-5645242637c5"
   },
   "outputs": [
    {
     "name": "stdout",
     "output_type": "stream",
     "text": [
      "Films recommandés pour l'utilisateur 1 :\n",
      "Dragonheart 2: A New Beginning (2000)\n",
      "Hunting Party, The (2007)\n",
      "Flashback (1990)\n",
      "The Great Train Robbery (1978)\n",
      "Stunt Man, The (1980)\n",
      "Extreme Days (2001)\n",
      "Maximum Ride (2016)\n",
      "Machete (2010)\n",
      "Charlie's Angels: Full Throttle (2003)\n",
      "After the Sunset (2004)\n"
     ]
    }
   ],
   "source": [
    "# Exemple d'utilisation\n",
    "if __name__ == \"__main__\":\n",
    "    # Chemins des fichiers\n",
    "    path_movies = \"../movies.csv\"   # Fichier contenant movieId, title, genres\n",
    "    path_ratings = \"../ratings.csv\"  # Fichier contenant userId, movieId, rating\n",
    "\n",
    "    # Instancier le système de recommandation\n",
    "    recommender = ContentBasedRecommender(path_movies, path_ratings)\n",
    "\n",
    "    # Recommander des films pour l'utilisateur avec l'ID 1\n",
    "    user_id = 1\n",
    "    recommended_movies = recommender.recommend_movies(user_id, n_recommendations=10)\n",
    "\n",
    "    print(f\"Films recommandés pour l'utilisateur {user_id} :\")\n",
    "    for movie in recommended_movies:\n",
    "        print(movie)\n"
   ]
  },
  {
   "cell_type": "code",
   "execution_count": null,
   "metadata": {},
   "outputs": [],
   "source": []
  },
  {
   "cell_type": "code",
   "execution_count": null,
   "metadata": {},
   "outputs": [],
   "source": []
  }
 ],
 "metadata": {
  "colab": {
   "include_colab_link": true,
   "provenance": []
  },
  "kernelspec": {
   "display_name": "base",
   "language": "python",
   "name": "python3"
  },
  "language_info": {
   "codemirror_mode": {
    "name": "ipython",
    "version": 3
   },
   "file_extension": ".py",
   "mimetype": "text/x-python",
   "name": "python",
   "nbconvert_exporter": "python",
   "pygments_lexer": "ipython3",
   "version": "3.9.13"
  }
 },
 "nbformat": 4,
 "nbformat_minor": 0
}
